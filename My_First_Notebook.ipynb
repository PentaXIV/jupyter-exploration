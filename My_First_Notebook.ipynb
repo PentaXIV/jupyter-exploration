{
 "cells": [
  {
   "cell_type": "markdown",
   "id": "0a1a8549-6633-4524-8e0e-89608b5b8fea",
   "metadata": {},
   "source": [
    "My first Markdown Cell in Jupyter "
   ]
  },
  {
   "cell_type": "code",
   "execution_count": 2,
   "id": "56dcc695-14c9-4a01-a2f1-7f82576074e5",
   "metadata": {},
   "outputs": [
    {
     "name": "stdout",
     "output_type": "stream",
     "text": [
      "Code Cell\n"
     ]
    }
   ],
   "source": [
    "print (\"Code Cell\")"
   ]
  }
 ],
 "metadata": {
  "kernelspec": {
   "display_name": "Python [conda env:base] *",
   "language": "python",
   "name": "conda-base-py"
  },
  "language_info": {
   "codemirror_mode": {
    "name": "ipython",
    "version": 3
   },
   "file_extension": ".py",
   "mimetype": "text/x-python",
   "name": "python",
   "nbconvert_exporter": "python",
   "pygments_lexer": "ipython3",
   "version": "3.12.7"
  }
 },
 "nbformat": 4,
 "nbformat_minor": 5
}
